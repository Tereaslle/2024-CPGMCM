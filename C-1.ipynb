{
 "cells": [
  {
   "cell_type": "code",
   "execution_count": 2,
   "id": "fe0c5fa1",
   "metadata": {
    "pycharm": {
     "name": "#%%\n"
    }
   },
   "outputs": [
    {
     "name": "stdout",
     "output_type": "stream",
     "text": [
      "   温度，oC  频率，Hz    磁芯损耗，w/m3 励磁波形  0（磁通密度B，T）         1         2         3  \\\n",
      "0     25  50030  1997.955250  正弦波    0.000213  0.000389  0.000566  0.000743   \n",
      "1     25  50020  2427.749830  正弦波   -0.000551 -0.000358 -0.000165  0.000028   \n",
      "2     25  50020  3332.725760  正弦波   -0.003780 -0.003564 -0.003349 -0.003134   \n",
      "3     25  50020  4502.908007  正弦波   -0.000511 -0.000267 -0.000023  0.000222   \n",
      "4     25  50030  6063.023248  正弦波    0.000458  0.000732  0.001007  0.001281   \n",
      "\n",
      "          4         5  ...      1014      1015      1016      1017      1018  \\\n",
      "0  0.000919  0.001096  ... -0.001551 -0.001374 -0.001198 -0.001022 -0.000846   \n",
      "1  0.000221  0.000413  ... -0.002476 -0.002284 -0.002091 -0.001899 -0.001707   \n",
      "2 -0.002919 -0.002704  ... -0.005927 -0.005713 -0.005499 -0.005285 -0.005070   \n",
      "3  0.000466  0.000711  ... -0.002950 -0.002707 -0.002463 -0.002220 -0.001976   \n",
      "4  0.001555  0.001830  ... -0.002290 -0.002016 -0.001741 -0.001466 -0.001192   \n",
      "\n",
      "       1019      1020      1021      1022      1023  \n",
      "0 -0.000669 -0.000492 -0.000316 -0.000140  0.000036  \n",
      "1 -0.001515 -0.001322 -0.001129 -0.000937 -0.000744  \n",
      "2 -0.004855 -0.004640 -0.004425 -0.004210 -0.003995  \n",
      "3 -0.001732 -0.001488 -0.001244 -0.001000 -0.000756  \n",
      "4 -0.000917 -0.000642 -0.000367 -0.000092  0.000183  \n",
      "\n",
      "[5 rows x 1028 columns]\n"
     ]
    }
   ],
   "source": [
    "import pandas as pd\n",
    "\n",
    "# 定义文件路径\n",
    "file_path = r\"./附件一（训练集）.xlsx\"\n",
    "\n",
    "# 读取Excel文件\n",
    "data = pd.read_excel(file_path)\n",
    "\n",
    "# 输出数据的前几行查看\n",
    "print(data.head())\n"
   ]
  },
  {
   "cell_type": "code",
   "execution_count": 35,
   "id": "f88c3ed6",
   "metadata": {
    "pycharm": {
     "name": "#%%\n"
    }
   },
   "outputs": [
    {
     "data": {
      "image/png": "[encoded data removed]",
      "text/plain": [
       "<Figure size 360x216 with 1 Axes>"
      ]
     },
     "metadata": {
      "needs_background": "light"
     },
     "output_type": "display_data"
    },
    {
     "data": {
      "image/png": "[encoded data removed]",
      "text/plain": [
       "<Figure size 360x216 with 1 Axes>"
      ]
     },
     "metadata": {
      "needs_background": "light"
     },
     "output_type": "display_data"
    },
    {
     "data": {
      "image/png": "[encoded data removed]",
      "text/plain": [
       "<Figure size 360x216 with 1 Axes>"
      ]
     },
     "metadata": {
      "needs_background": "light"
     },
     "output_type": "display_data"
    }
   ],
   "source": [
    "import pandas as pd  \n",
    "import matplotlib.pyplot as plt  \n",
    "i_signal=0\n",
    "# 设置 Matplotlib 使用支持中文的字体  \n",
    "plt.rcParams['font.sans-serif'] = ['SimHei']  # 指定默认字体为黑体  \n",
    "plt.rcParams['axes.unicode_minus'] = False  # 解决保存图像时负号'-'显示为方块的问题 \n",
    "selected_data = data.iloc[i_signal, 4:]  \n",
    "x = range(len(selected_data))  # 生成一个和selected_data长度相同的索引列表  \n",
    "# 读取第一行的前四列  \n",
    "param = data.iloc[i_signal, :4]  \n",
    "# 将这些值合并成一个标题字符串，这里使用空格分隔  \n",
    "title = ' '.join(str(x) for x in param)  \n",
    "# 绘制数据  \n",
    "plt.figure(figsize=(5, 3))  # 设置图像大小  \n",
    "plt.plot(x, selected_data, marker='o')  # 绘制折线图，并添加数据点  \n",
    "plt.xlabel('时间')  # x轴标签  \n",
    "plt.ylabel('磁通密度')  # y轴标签  \n",
    "plt.title(title)  # 图像标题  \n",
    "plt.tight_layout()  # 自动调整子图参数, 使之填充整个图像区域  \n",
    "plt.show()\n",
    "\n",
    "i_signal=1067\n",
    "# 设置 Matplotlib 使用支持中文的字体  \n",
    "plt.rcParams['font.sans-serif'] = ['SimHei']  # 指定默认字体为黑体  \n",
    "plt.rcParams['axes.unicode_minus'] = False  # 解决保存图像时负号'-'显示为方块的问题 \n",
    "selected_data = data.iloc[i_signal, 4:]  \n",
    "x = range(len(selected_data))  # 生成一个和selected_data长度相同的索引列表  \n",
    "# 读取第一行的前四列  \n",
    "param = data.iloc[i_signal, :4]  \n",
    "# 将这些值合并成一个标题字符串，这里使用空格分隔  \n",
    "title = ' '.join(str(x) for x in param)  \n",
    "# 绘制数据  \n",
    "plt.figure(figsize=(5, 3))  # 设置图像大小  \n",
    "plt.plot(x, selected_data, marker='o')  # 绘制折线图，并添加数据点  \n",
    "plt.xlabel('时间')  # x轴标签  \n",
    "plt.ylabel('磁通密度')  # y轴标签  \n",
    "plt.title(title)  # 图像标题  \n",
    "plt.tight_layout()  # 自动调整子图参数, 使之填充整个图像区域  \n",
    "plt.show()\n",
    "\n",
    "i_signal=2370\n",
    "# 设置 Matplotlib 使用支持中文的字体  \n",
    "plt.rcParams['font.sans-serif'] = ['SimHei']  # 指定默认字体为黑体  \n",
    "plt.rcParams['axes.unicode_minus'] = False  # 解决保存图像时负号'-'显示为方块的问题 \n",
    "selected_data = data.iloc[i_signal, 4:]  \n",
    "x = range(len(selected_data))  # 生成一个和selected_data长度相同的索引列表  \n",
    "# 读取第一行的前四列  \n",
    "param = data.iloc[i_signal, :4]  \n",
    "# 将这些值合并成一个标题字符串，这里使用空格分隔  \n",
    "title = ' '.join(str(x) for x in param)  \n",
    "# 绘制数据  \n",
    "plt.figure(figsize=(5, 3))  # 设置图像大小  \n",
    "plt.plot(x, selected_data, marker='o')  # 绘制折线图，并添加数据点  \n",
    "plt.xlabel('时间')  # x轴标签  \n",
    "plt.ylabel('磁通密度')  # y轴标签  \n",
    "plt.title(title)  # 图像标题  \n",
    "plt.tight_layout()  # 自动调整子图参数, 使之填充整个图像区域  \n",
    "plt.show()"
   ]
  },
  {
   "cell_type": "code",
   "execution_count": 36,
   "id": "c5126bb9",
   "metadata": {
    "pycharm": {
     "name": "#%%\n"
    }
   },
   "outputs": [],
   "source": [
    "# 提取标签 (第四列) 和特征数据 (第五列到最后一列)\n",
    "labels = data.iloc[:, 3]  # 第四列为标签\n",
    "features = data.iloc[:, 4:]  # 第5列到最后一列为磁通密度曲线"
   ]
  },
  {
   "cell_type": "code",
   "execution_count": 37,
   "id": "35c51c44",
   "metadata": {
    "pycharm": {
     "name": "#%%\n"
    }
   },
   "outputs": [],
   "source": [
    "import numpy as np\n",
    "from scipy.stats import skew, kurtosis\n",
    "\n",
    "# 计算每个样本的统计特征：均值、标准差、最大值、最小值、幅度、能量、偏度、峰度\n",
    "features['mean'] = features.mean(axis=1)\n",
    "features['std'] = features.std(axis=1)\n",
    "features['max'] = features.max(axis=1)\n",
    "features['min'] = features.min(axis=1)\n",
    "features['amplitude'] = features['max'] - features['min']\n",
    "features['energy'] = np.sum(np.square(features), axis=1)\n",
    "\n",
    "# 计算偏度和峰度\n",
    "features['skewness'] = features.apply(lambda row: skew(row), axis=1)\n",
    "features['kurtosis'] = features.apply(lambda row: kurtosis(row), axis=1)\n"
   ]
  },
  {
   "cell_type": "code",
   "execution_count": 38,
   "id": "7056c76e",
   "metadata": {
    "pycharm": {
     "name": "#%%\n"
    }
   },
   "outputs": [
    {
     "name": "stdout",
     "output_type": "stream",
     "text": [
      "Accuracy: 1.0\n",
      "[[405   0   0]\n",
      " [  0 271   0]\n",
      " [  0   0 344]]\n",
      "              precision    recall  f1-score   support\n",
      "\n",
      "         三角波       1.00      1.00      1.00       405\n",
      "         梯形波       1.00      1.00      1.00       271\n",
      "         正弦波       1.00      1.00      1.00       344\n",
      "\n",
      "    accuracy                           1.00      1020\n",
      "   macro avg       1.00      1.00      1.00      1020\n",
      "weighted avg       1.00      1.00      1.00      1020\n",
      "\n"
     ]
    }
   ],
   "source": [
    "from sklearn.model_selection import train_test_split\n",
    "from sklearn.ensemble import RandomForestClassifier\n",
    "from sklearn.metrics import accuracy_score, confusion_matrix, classification_report\n",
    "\n",
    "# 划分训练集和测试集\n",
    "X_train, X_test, y_train, y_test = train_test_split(features, labels, test_size=0.3, random_state=42)\n",
    "\n",
    "# 构建随机森林分类模型\n",
    "model = RandomForestClassifier()\n",
    "model.fit(X_train, y_train)\n",
    "\n",
    "# 进行预测\n",
    "y_pred = model.predict(X_test)\n",
    "\n",
    "# 输出模型评估结果\n",
    "print(\"Accuracy:\", accuracy_score(y_test, y_pred))\n",
    "print(confusion_matrix(y_test, y_pred))\n",
    "print(classification_report(y_test, y_pred))\n"
   ]
  },
  {
   "cell_type": "code",
   "execution_count": 45,
   "id": "7fdbe154",
   "metadata": {
    "pycharm": {
     "name": "#%%\n"
    }
   },
   "outputs": [
    {
     "name": "stdout",
     "output_type": "stream",
     "text": [
      "Accuracy: 1.0\n",
      "[[405   0   0]\n",
      " [  0 271   0]\n",
      " [  0   0 344]]\n",
      "              precision    recall  f1-score   support\n",
      "\n",
      "         三角波       1.00      1.00      1.00       405\n",
      "         梯形波       1.00      1.00      1.00       271\n",
      "         正弦波       1.00      1.00      1.00       344\n",
      "\n",
      "    accuracy                           1.00      1020\n",
      "   macro avg       1.00      1.00      1.00      1020\n",
      "weighted avg       1.00      1.00      1.00      1020\n",
      "\n"
     ]
    }
   ],
   "source": [
    "from sklearn.metrics import accuracy_score, confusion_matrix, classification_report\n",
    "print(\"Accuracy:\", accuracy_score(y_test, y_pred))\n",
    "print(confusion_matrix(y_test, y_pred))\n",
    "print(classification_report(y_test, y_pred))\n"
   ]
  },
  {
   "cell_type": "code",
   "execution_count": 48,
   "id": "2c37362a",
   "metadata": {
    "pycharm": {
     "name": "#%%\n"
    }
   },
   "outputs": [
    {
     "data": {
      "image/png": "[encoded data removed]",
      "text/plain": [
       "<Figure size 360x360 with 1 Axes>"
      ]
     },
     "metadata": {
      "needs_background": "light"
     },
     "output_type": "display_data"
    }
   ],
   "source": [
    "import matplotlib.pyplot as plt\n",
    "import seaborn as sns\n",
    "from sklearn.metrics import confusion_matrix\n",
    "\n",
    "# 计算混淆矩阵\n",
    "cm = confusion_matrix(y_test, y_pred)\n",
    "\n",
    "# 设置绘图大小\n",
    "plt.figure(figsize=(5, 5))\n",
    "\n",
    "# 使用 seaborn 绘制热力图\n",
    "sns.heatmap(cm, annot=True, fmt='d', cmap='Blues', cbar=False,\n",
    "            xticklabels=['正弦波', '三角波', '梯形波'],\n",
    "            yticklabels=['正弦波', '三角波', '梯形波'])\n",
    "\n",
    "# 添加标题和标签\n",
    "plt.title('Confusion Matrix of Waveform Classification')\n",
    "plt.xlabel('Predicted Label')\n",
    "plt.ylabel('True Label')\n",
    "\n",
    "# 显示图像\n",
    "plt.show()\n"
   ]
  },
  {
   "cell_type": "code",
   "execution_count": 40,
   "id": "199431d7",
   "metadata": {
    "pycharm": {
     "name": "#%%\n"
    }
   },
   "outputs": [
    {
     "name": "stdout",
     "output_type": "stream",
     "text": [
      "   序号  温度，oC   频率，Hz 磁芯材料  0（磁通密度B，T）         1         2         3         4  \\\n",
      "0   1     25   56180  材料1   -0.101398 -0.099219 -0.097045 -0.094873 -0.092701   \n",
      "1   2     25  125890  材料1   -0.031775 -0.031081 -0.030391 -0.029704 -0.029019   \n",
      "2   3     25  224180  材料1   -0.066871 -0.065300 -0.063737 -0.062185 -0.060640   \n",
      "3   4     25  282480  材料1   -0.023190 -0.022634 -0.022084 -0.021540 -0.020998   \n",
      "4   5     50  199170  材料1   -0.077613 -0.075852 -0.074096 -0.072348 -0.070611   \n",
      "\n",
      "          5  ...      1014      1015      1016      1017      1018      1019  \\\n",
      "0 -0.090534  ... -0.106739 -0.106970 -0.107198 -0.107405 -0.107564 -0.107633   \n",
      "1 -0.028333  ... -0.034050 -0.034100 -0.034136 -0.034158 -0.034159 -0.034103   \n",
      "2 -0.059101  ... -0.074207 -0.074200 -0.074168 -0.074077 -0.073844 -0.073352   \n",
      "3 -0.020455  ... -0.027047 -0.027007 -0.026898 -0.026682 -0.026344 -0.025900   \n",
      "4 -0.068883  ... -0.084331 -0.084361 -0.084376 -0.084366 -0.084294 -0.084046   \n",
      "\n",
      "       1020      1021      1022      1023  \n",
      "0 -0.107374 -0.106567 -0.105241 -0.103473  \n",
      "1 -0.033926 -0.033588 -0.033087 -0.032461  \n",
      "2 -0.072520 -0.071357 -0.069958 -0.068436  \n",
      "3 -0.025387 -0.024845 -0.024297 -0.023745  \n",
      "4 -0.083461 -0.082435 -0.081015 -0.079358  \n",
      "\n",
      "[5 rows x 1028 columns]\n"
     ]
    }
   ],
   "source": [
    "import pandas as pd\n",
    "\n",
    "# 定义文件路径\n",
    "file_path = r\"E:/2024数模/C题论文/附件二（测试集）.xlsx\"\n",
    "\n",
    "# 读取Excel文件\n",
    "data2 = pd.read_excel(file_path)\n",
    "\n",
    "# 输出数据的前几行查看\n",
    "print(data2.head())"
   ]
  },
  {
   "cell_type": "code",
   "execution_count": 42,
   "id": "650639d8",
   "metadata": {
    "pycharm": {
     "name": "#%%\n"
    }
   },
   "outputs": [
    {
     "name": "stdout",
     "output_type": "stream",
     "text": [
      "['三角波' '三角波' '三角波' '三角波' '三角波' '梯形波' '梯形波' '梯形波' '梯形波' '梯形波' '正弦波' '正弦波'\n",
      " '正弦波' '正弦波' '正弦波' '三角波' '三角波' '三角波' '三角波' '三角波' '三角波' '三角波' '三角波' '三角波'\n",
      " '三角波' '正弦波' '正弦波' '三角波' '正弦波' '三角波' '三角波' '三角波' '梯形波' '三角波' '三角波' '三角波'\n",
      " '三角波' '三角波' '三角波' '三角波' '梯形波' '三角波' '三角波' '三角波' '三角波' '正弦波' '正弦波' '正弦波'\n",
      " '正弦波' '正弦波' '三角波' '三角波' '三角波' '三角波' '三角波' '三角波' '三角波' '三角波' '三角波' '三角波'\n",
      " '三角波' '三角波' '三角波' '三角波' '三角波' '三角波' '三角波' '三角波' '三角波' '三角波' '三角波' '梯形波'\n",
      " '梯形波' '三角波' '三角波' '正弦波' '正弦波' '正弦波' '正弦波' '正弦波']\n"
     ]
    }
   ],
   "source": [
    "import pandas as pd\n",
    "import numpy as np\n",
    "from scipy.stats import skew, kurtosis\n",
    "\n",
    "# 假设已经读取并处理好 data，训练好分类模型 model\n",
    "\n",
    "# 提取 data2 的特征数据 (第5列到最后一列为磁通密度曲线)\n",
    "features_test = data2.iloc[:, 4:]\n",
    "\n",
    "# 计算统计特征\n",
    "features_test['mean'] = features_test.mean(axis=1)\n",
    "features_test['std'] = features_test.std(axis=1)\n",
    "features_test['max'] = features_test.max(axis=1)\n",
    "features_test['min'] = features_test.min(axis=1)\n",
    "features_test['amplitude'] = features_test['max'] - features_test['min']\n",
    "features_test['energy'] = np.sum(np.square(features_test), axis=1)\n",
    "\n",
    "# 计算偏度和峰度\n",
    "features_test['skewness'] = features_test.apply(lambda row: skew(row), axis=1)\n",
    "features_test['kurtosis'] = features_test.apply(lambda row: kurtosis(row), axis=1)\n",
    "\n",
    "# 使用之前训练的模型 model 对 data2 进行预测\n",
    "y_pred_data2 = model.predict(features_test)\n",
    "\n",
    "# 输出预测标签\n",
    "print(y_pred_data2)\n"
   ]
  },
  {
   "cell_type": "code",
   "execution_count": 44,
   "id": "076d3b77",
   "metadata": {
    "pycharm": {
     "name": "#%%\n"
    }
   },
   "outputs": [
    {
     "name": "stdout",
     "output_type": "stream",
     "text": [
      "   Waveform  Mapped\n",
      "0       三角波       2\n",
      "1       三角波       2\n",
      "2       三角波       2\n",
      "3       三角波       2\n",
      "4       三角波       2\n",
      "..      ...     ...\n",
      "75      正弦波       1\n",
      "76      正弦波       1\n",
      "77      正弦波       1\n",
      "78      正弦波       1\n",
      "79      正弦波       1\n",
      "\n",
      "[80 rows x 2 columns]\n"
     ]
    }
   ],
   "source": [
    "# 创建一个映射字典\n",
    "waveform_mapping = {\n",
    "    '正弦波': 1,\n",
    "    '三角波': 2,\n",
    "    '梯形波': 3\n",
    "}\n",
    "\n",
    "# 将 y_pred_data2 转换为 DataFrame\n",
    "df = pd.DataFrame({\n",
    "    'Waveform': y_pred_data2\n",
    "})\n",
    "\n",
    "# 通过映射生成第二列\n",
    "df['Mapped'] = df['Waveform'].map(waveform_mapping)\n",
    "\n",
    "# 将 DataFrame 写入 Excel 文件\n",
    "df.to_excel('E:/2024数模/C题论文/predicted_waveform_with_mapping.xlsx', index=False)\n",
    "\n",
    "# 打印输出\n",
    "print(df)"
   ]
  },
  {
   "cell_type": "code",
   "execution_count": null,
   "id": "743c9086",
   "metadata": {
    "pycharm": {
     "name": "#%%\n"
    }
   },
   "outputs": [],
   "source": []
  }
 ],
 "metadata": {
  "kernelspec": {
   "display_name": "Python 3",
   "language": "python",
   "name": "python3"
  },
  "language_info": {
   "codemirror_mode": {
    "name": "ipython",
    "version": 3
   },
   "file_extension": ".py",
   "mimetype": "text/x-python",
   "name": "python",
   "nbconvert_exporter": "python",
   "pygments_lexer": "ipython3",
   "version": "3.8.5"
  }
 },
 "nbformat": 4,
 "nbformat_minor": 5
}