{
 "cells": [
  {
   "cell_type": "markdown",
   "id": "4c37b3e4",
   "metadata": {},
   "source": [
    "### 问题五 磁性元件的最优化条件\n",
    "#### 在磁性元件的设计与优化领域内，磁芯损耗固然是一个不容忽视的核心评价指标，但在工程实践中，为了实现磁性元件整体性能的卓越与最优化，需要综合考虑多个评价指标，其中，传输磁能就是重要的评价指标之一，因此，同时考虑磁芯损耗与传输磁能这二个评价指标，对于指导磁性元件的设计方向、优化其性能表现，具有重要的理论及实践意义。\n",
    "#### 请以问题四构建的磁芯损耗预测模型为目标函数，同时考虑传输磁能这个重要指标（由于传输磁能概念的复杂性，我们仅以频率与磁通密度峰值的乘积来衡量传输磁能大小），利用附件一中的实验数据，建立优化模型，分析在什么条件下（温度、频率、波形、磁通密度峰值及磁芯材料），能达到最小的磁芯损耗以及具有最大的传输磁能（即达到最大）？"
   ]
  },
  {
   "cell_type": "markdown",
   "id": "5d7b17f4",
   "metadata": {},
   "source": [
    "#### 我们利用问题4得到的各方程的相应参数进行分析"
   ]
  },
  {
   "cell_type": "code",
   "execution_count": 1,
   "id": "de1c8fb9",
   "metadata": {
    "scrolled": true
   },
   "outputs": [
    {
     "ename": "FileNotFoundError",
     "evalue": "[Errno 2] No such file or directory: '问题4\\\\不同材料不同波形的损耗分离模型和修正方程模型拟合结果.xlsx'",
     "output_type": "error",
     "traceback": [
      "\u001b[1;31m---------------------------------------------------------------------------\u001b[0m",
      "\u001b[1;31mFileNotFoundError\u001b[0m                         Traceback (most recent call last)",
      "Cell \u001b[1;32mIn[1], line 2\u001b[0m\n\u001b[0;32m      1\u001b[0m \u001b[38;5;28;01mimport\u001b[39;00m \u001b[38;5;21;01mpandas\u001b[39;00m \u001b[38;5;28;01mas\u001b[39;00m \u001b[38;5;21;01mpd\u001b[39;00m\n\u001b[1;32m----> 2\u001b[0m df \u001b[38;5;241m=\u001b[39m pd\u001b[38;5;241m.\u001b[39mread_excel(\u001b[38;5;124m'\u001b[39m\u001b[38;5;124m问题4\u001b[39m\u001b[38;5;130;01m\\\\\u001b[39;00m\u001b[38;5;124m不同材料不同波形的损耗分离模型和修正方程模型拟合结果.xlsx\u001b[39m\u001b[38;5;124m'\u001b[39m)\n\u001b[0;32m      3\u001b[0m df\n",
      "File \u001b[1;32m~\\AppData\\Roaming\\Python\\Python311\\site-packages\\pandas\\io\\excel\\_base.py:478\u001b[0m, in \u001b[0;36mread_excel\u001b[1;34m(io, sheet_name, header, names, index_col, usecols, dtype, engine, converters, true_values, false_values, skiprows, nrows, na_values, keep_default_na, na_filter, verbose, parse_dates, date_parser, date_format, thousands, decimal, comment, skipfooter, storage_options, dtype_backend)\u001b[0m\n\u001b[0;32m    476\u001b[0m \u001b[38;5;28;01mif\u001b[39;00m \u001b[38;5;129;01mnot\u001b[39;00m \u001b[38;5;28misinstance\u001b[39m(io, ExcelFile):\n\u001b[0;32m    477\u001b[0m     should_close \u001b[38;5;241m=\u001b[39m \u001b[38;5;28;01mTrue\u001b[39;00m\n\u001b[1;32m--> 478\u001b[0m     io \u001b[38;5;241m=\u001b[39m ExcelFile(io, storage_options\u001b[38;5;241m=\u001b[39mstorage_options, engine\u001b[38;5;241m=\u001b[39mengine)\n\u001b[0;32m    479\u001b[0m \u001b[38;5;28;01melif\u001b[39;00m engine \u001b[38;5;129;01mand\u001b[39;00m engine \u001b[38;5;241m!=\u001b[39m io\u001b[38;5;241m.\u001b[39mengine:\n\u001b[0;32m    480\u001b[0m     \u001b[38;5;28;01mraise\u001b[39;00m \u001b[38;5;167;01mValueError\u001b[39;00m(\n\u001b[0;32m    481\u001b[0m         \u001b[38;5;124m\"\u001b[39m\u001b[38;5;124mEngine should not be specified when passing \u001b[39m\u001b[38;5;124m\"\u001b[39m\n\u001b[0;32m    482\u001b[0m         \u001b[38;5;124m\"\u001b[39m\u001b[38;5;124man ExcelFile - ExcelFile already has the engine set\u001b[39m\u001b[38;5;124m\"\u001b[39m\n\u001b[0;32m    483\u001b[0m     )\n",
      "File \u001b[1;32m~\\AppData\\Roaming\\Python\\Python311\\site-packages\\pandas\\io\\excel\\_base.py:1496\u001b[0m, in \u001b[0;36mExcelFile.__init__\u001b[1;34m(self, path_or_buffer, engine, storage_options)\u001b[0m\n\u001b[0;32m   1494\u001b[0m     ext \u001b[38;5;241m=\u001b[39m \u001b[38;5;124m\"\u001b[39m\u001b[38;5;124mxls\u001b[39m\u001b[38;5;124m\"\u001b[39m\n\u001b[0;32m   1495\u001b[0m \u001b[38;5;28;01melse\u001b[39;00m:\n\u001b[1;32m-> 1496\u001b[0m     ext \u001b[38;5;241m=\u001b[39m inspect_excel_format(\n\u001b[0;32m   1497\u001b[0m         content_or_path\u001b[38;5;241m=\u001b[39mpath_or_buffer, storage_options\u001b[38;5;241m=\u001b[39mstorage_options\n\u001b[0;32m   1498\u001b[0m     )\n\u001b[0;32m   1499\u001b[0m     \u001b[38;5;28;01mif\u001b[39;00m ext \u001b[38;5;129;01mis\u001b[39;00m \u001b[38;5;28;01mNone\u001b[39;00m:\n\u001b[0;32m   1500\u001b[0m         \u001b[38;5;28;01mraise\u001b[39;00m \u001b[38;5;167;01mValueError\u001b[39;00m(\n\u001b[0;32m   1501\u001b[0m             \u001b[38;5;124m\"\u001b[39m\u001b[38;5;124mExcel file format cannot be determined, you must specify \u001b[39m\u001b[38;5;124m\"\u001b[39m\n\u001b[0;32m   1502\u001b[0m             \u001b[38;5;124m\"\u001b[39m\u001b[38;5;124man engine manually.\u001b[39m\u001b[38;5;124m\"\u001b[39m\n\u001b[0;32m   1503\u001b[0m         )\n",
      "File \u001b[1;32m~\\AppData\\Roaming\\Python\\Python311\\site-packages\\pandas\\io\\excel\\_base.py:1371\u001b[0m, in \u001b[0;36minspect_excel_format\u001b[1;34m(content_or_path, storage_options)\u001b[0m\n\u001b[0;32m   1368\u001b[0m \u001b[38;5;28;01mif\u001b[39;00m \u001b[38;5;28misinstance\u001b[39m(content_or_path, \u001b[38;5;28mbytes\u001b[39m):\n\u001b[0;32m   1369\u001b[0m     content_or_path \u001b[38;5;241m=\u001b[39m BytesIO(content_or_path)\n\u001b[1;32m-> 1371\u001b[0m \u001b[38;5;28;01mwith\u001b[39;00m get_handle(\n\u001b[0;32m   1372\u001b[0m     content_or_path, \u001b[38;5;124m\"\u001b[39m\u001b[38;5;124mrb\u001b[39m\u001b[38;5;124m\"\u001b[39m, storage_options\u001b[38;5;241m=\u001b[39mstorage_options, is_text\u001b[38;5;241m=\u001b[39m\u001b[38;5;28;01mFalse\u001b[39;00m\n\u001b[0;32m   1373\u001b[0m ) \u001b[38;5;28;01mas\u001b[39;00m handle:\n\u001b[0;32m   1374\u001b[0m     stream \u001b[38;5;241m=\u001b[39m handle\u001b[38;5;241m.\u001b[39mhandle\n\u001b[0;32m   1375\u001b[0m     stream\u001b[38;5;241m.\u001b[39mseek(\u001b[38;5;241m0\u001b[39m)\n",
      "File \u001b[1;32m~\\AppData\\Roaming\\Python\\Python311\\site-packages\\pandas\\io\\common.py:868\u001b[0m, in \u001b[0;36mget_handle\u001b[1;34m(path_or_buf, mode, encoding, compression, memory_map, is_text, errors, storage_options)\u001b[0m\n\u001b[0;32m    859\u001b[0m         handle \u001b[38;5;241m=\u001b[39m \u001b[38;5;28mopen\u001b[39m(\n\u001b[0;32m    860\u001b[0m             handle,\n\u001b[0;32m    861\u001b[0m             ioargs\u001b[38;5;241m.\u001b[39mmode,\n\u001b[1;32m   (...)\u001b[0m\n\u001b[0;32m    864\u001b[0m             newline\u001b[38;5;241m=\u001b[39m\u001b[38;5;124m\"\u001b[39m\u001b[38;5;124m\"\u001b[39m,\n\u001b[0;32m    865\u001b[0m         )\n\u001b[0;32m    866\u001b[0m     \u001b[38;5;28;01melse\u001b[39;00m:\n\u001b[0;32m    867\u001b[0m         \u001b[38;5;66;03m# Binary mode\u001b[39;00m\n\u001b[1;32m--> 868\u001b[0m         handle \u001b[38;5;241m=\u001b[39m \u001b[38;5;28mopen\u001b[39m(handle, ioargs\u001b[38;5;241m.\u001b[39mmode)\n\u001b[0;32m    869\u001b[0m     handles\u001b[38;5;241m.\u001b[39mappend(handle)\n\u001b[0;32m    871\u001b[0m \u001b[38;5;66;03m# Convert BytesIO or file objects passed with an encoding\u001b[39;00m\n",
      "\u001b[1;31mFileNotFoundError\u001b[0m: [Errno 2] No such file or directory: '问题4\\\\不同材料不同波形的损耗分离模型和修正方程模型拟合结果.xlsx'"
     ]
    }
   ],
   "source": [
    "import pandas as pd\n",
    "df = pd.read_excel('问题4\\\\不同材料不同波形的损耗分离模型和修正方程模型拟合结果.xlsx')\n",
    "df"
   ]
  },
  {
   "cell_type": "markdown",
   "id": "17358fdf",
   "metadata": {},
   "source": [
    "### $P_{总损耗}$=$\\alpha  P_{修正斯坦麦茨方程}+\\beta P_{损耗分离模型}$\n",
    "\n",
    "#### 修正的斯坦麦茨方程$P_{修正斯坦麦茨方程}=a1•f^{a2}•B_m^{a3}•log(T)^{a4}$\n",
    "\n",
    "#### 损耗分离模型$P_{损耗分离模型}=P_{h}+P_{cl}+P_{e} .$\n",
    "* $P_h=b1•f•B_m^{b2} $\n",
    "* $P_{cl}=b3•f^2•B_m^2$\n",
    "* $P_e=8•\\sqrt{\\sigma\\cdot S\\cdot G\\cdot V_0}•f^{1.5}•B_m^{1.5}$"
   ]
  },
  {
   "cell_type": "markdown",
   "id": "8f8f710b",
   "metadata": {},
   "source": [
    "#### 在不同的材料不同的波形情况下，我们可以得到不同参数的总方程，同学们可以基于得到的总方程进行公式推导，这里一共总共是3个自变量* * 包括频率、磁通密度峰值、温度\n",
    "#### 同学们可以根据不同系数条件下，对这三个变量求偏导，令偏导＝0，得到最优条件"
   ]
  },
  {
   "cell_type": "markdown",
   "id": "dbf4fb6c",
   "metadata": {},
   "source": [
    "#### 在这里我们考虑，利用遗传算法进行最优条件选择"
   ]
  },
  {
   "cell_type": "code",
   "execution_count": null,
   "id": "912c7eb0",
   "metadata": {},
   "outputs": [],
   "source": [
    "def ensemble(x):\n",
    "    return a*steinmetz_eq_adjust(x) + b*separate(x)\n",
    "\n",
    "def separate(x):\n",
    "    return b1*x[0]*x[1]**b2+b3*x[0]**2*x[1]**2+(b4*0.1356)**0.5*x[0]**1.5*x[1]**1.5\n",
    "\n",
    "def steinmetz_eq_adjust(x):\n",
    "    return a1 * x[0]**a2 * x[1]**a3 * np.log(x[2])**a4"
   ]
  },
  {
   "cell_type": "code",
   "execution_count": null,
   "id": "c06d305b",
   "metadata": {},
   "outputs": [],
   "source": [
    "import numpy as np\n",
    "import matplotlib.pyplot as plt\n",
    "\n",
    "import rasterio\n",
    "import matplotlib.pyplot as plt\n",
    "from rasterio.plot import show\n",
    "import numpy as np\n",
    "import matplotlib.colors as mcolors\n",
    "from mpl_toolkits.axes_grid1 import make_axes_locatable\n",
    "import matplotlib.pyplot as plt\n",
    "from datetime import datetime, timedelta\n",
    "import pandas as pd\n",
    "import warnings\n",
    "import seaborn as sns\n",
    "from scipy.stats import pearsonr\n",
    "# 忽略所有的警告\n",
    "warnings.filterwarnings(\"ignore\")\n",
    "\n",
    "# 设置字体为 SimHei（黑体）以支持中文\n",
    "plt.rcParams['font.sans-serif'] = ['SimHei']  # 用黑体显示中文\n",
    "plt.rcParams['axes.unicode_minus'] = False    # 解决负号\n",
    "\n",
    "\n",
    "# 定义目标函数 \n",
    "def objective_function(x):\n",
    "    return a*steinmetz_eq_adjust(x) + b*separate(x)\n",
    "\n",
    "# 粒子类\n",
    "class Particle:\n",
    "    def __init__(self, dimensions, bounds):\n",
    "        self.position = np.random.uniform(bounds[:, 0], bounds[:, 1], dimensions)  # 粒子的位置\n",
    "        self.velocity = np.random.uniform(-1, 1, dimensions)                      # 粒子的速度\n",
    "        self.best_position = np.copy(self.position)                               # 粒子经历的最佳位置\n",
    "        self.best_score = float('inf')                                            # 粒子经历的最佳得分\n",
    "        self.bounds = bounds                                                     # 搜索空间边界\n",
    "\n",
    "    # 更新位置并确保其在边界范围内\n",
    "    def update_position(self):\n",
    "        self.position = np.clip(self.position, self.bounds[:, 0], self.bounds[:, 1])\n",
    "\n",
    "# 粒子群算法类\n",
    "class PSO:\n",
    "    def __init__(self, objective_function, dimensions, bounds, n_particles=30, max_iter=100, w=0.5, c1=1.5, c2=2.0):\n",
    "        self.objective_function = objective_function  # 目标函数\n",
    "        self.dimensions = dimensions                  # 搜索空间的维度\n",
    "        self.bounds = bounds                          # 搜索空间的边界 (约束)\n",
    "        self.n_particles = n_particles                # 粒子的数量\n",
    "        self.max_iter = max_iter                      # 最大迭代次数\n",
    "        self.w = w                                    # 惯性权重\n",
    "        self.c1 = c1                                  # 个体学习因子\n",
    "        self.c2 = c2                                  # 社会学习因子\n",
    "        self.particles = [Particle(dimensions, bounds) for _ in range(n_particles)]  # 初始化粒子群\n",
    "        self.global_best_position = np.zeros(dimensions)  # 全局最佳位置\n",
    "        self.global_best_score = float('inf')             # 全局最佳得分\n",
    "\n",
    "    # 优化过程\n",
    "    def optimize(self):\n",
    "        ls = []\n",
    "        for t in range(self.max_iter):\n",
    "            for particle in self.particles:\n",
    "                # 计算当前粒子的目标函数值\n",
    "                fitness = self.objective_function(particle.position)\n",
    "                \n",
    "                # 更新粒子的个体最佳位置和得分\n",
    "                if fitness < particle.best_score:\n",
    "                    particle.best_score = fitness\n",
    "                    particle.best_position = np.copy(particle.position)\n",
    "\n",
    "                # 更新全局最佳位置和得分\n",
    "                if fitness < self.global_best_score:\n",
    "                    self.global_best_score = fitness\n",
    "                    self.global_best_position = np.copy(particle.position)\n",
    "\n",
    "            # 更新粒子的速度和位置\n",
    "            for particle in self.particles:\n",
    "                r1 = np.random.random(self.dimensions)\n",
    "                r2 = np.random.random(self.dimensions)\n",
    "\n",
    "                # 速度更新公式\n",
    "                particle.velocity = (self.w * particle.velocity +\n",
    "                                    self.c1 * r1 * (particle.best_position - particle.position) +\n",
    "                                    self.c2 * r2 * (self.global_best_position - particle.position))\n",
    "\n",
    "                # 位置更新\n",
    "                particle.position += particle.velocity\n",
    "                particle.update_position()  # 更新后确保粒子位置在约束范围内\n",
    "\n",
    "            # 输出当前迭代的全局最优解\n",
    "            print(f\"Iteration {t+1}/{self.max_iter}, Best Position: {self.global_best_position}, Best Score: {self.global_best_score}\")\n",
    "            ls.append(self.global_best_score)\n",
    "\n",
    "        return self.global_best_position, self.global_best_score,pd.Series(ls)\n",
    "\n",
    "\n",
    "# 定义问题的维度\n",
    "dimensions = 3\n",
    "# 定义每个维度的搜索空间边界（例如 [-5, 5]）\n",
    "bounds = np.array([[49990, 501180], [0.00963815,0.313284469], [25, 90]])\n",
    "\n",
    "\n",
    "ls = []\n",
    "score = []\n",
    "mat = []\n",
    "bo = []\n",
    "\n",
    "plt.figure(figsize=(10, 6))\n",
    "\n",
    "for i in df['材料'].unique():\n",
    "    for o in df['励磁波形'].unique():\n",
    "        a1,a2,a3,a4,b1,b2,b3,b4,a,b = df[(df.材料==i)&(df.励磁波形==o)][['a1', 'a2', 'a3', 'a4', 'b1', 'b2', 'b3', 'b4','a','b']].values[0]\n",
    "        pso = PSO(objective_function, dimensions, bounds, n_particles=5, max_iter=20)\n",
    "        best_position, best_score,values = pso.optimize()\n",
    "        \n",
    "        values.plot(linestyle='-',marker='o',markerfacecolor='r',alpha=0.4,linewidth=5,label=f'{i}{o}')\n",
    "        \n",
    "        ls.append(best_position)\n",
    "        score.append(best_score)\n",
    "        mat.append(i)\n",
    "        bo.append(o)\n",
    "        \n",
    "        \n",
    "    plt.title('不同材料励磁波形的粒子群优化迭代过程',fontsize=20)\n",
    "    plt.xlabel('迭代次数',fontsize=20)\n",
    "    plt.ylabel('目标函数（磁芯损耗）',fontsize=20)\n",
    "    plt.legend()\n",
    "    plt.xticks(list(range(20)),list(range(1,21)),rotation=0,fontsize=15)\n",
    "    #plt.savefig(f'问题5\\\\{i}励磁波形的粒子群优化迭代过程.png',dpi=500)\n",
    "    plt.show()\n",
    "result = pd.DataFrame(ls,columns=['f_opt','Bm_opt','temp_opt'])\n",
    "result['材料'] = mat\n",
    "result['励磁波形'] = bo\n",
    "result['最优磁芯损耗'] = score\n",
    "result.to_excel('最优磁芯损耗.xlsx',index=False)"
   ]
  },
  {
   "cell_type": "code",
   "execution_count": null,
   "id": "7eb21152",
   "metadata": {},
   "outputs": [],
   "source": []
  },
  {
   "cell_type": "code",
   "execution_count": null,
   "id": "8dfc15ae",
   "metadata": {},
   "outputs": [],
   "source": []
  }
 ],
 "metadata": {
  "kernelspec": {
   "display_name": "Python 3 (ipykernel)",
   "language": "python",
   "name": "python3"
  },
  "language_info": {
   "codemirror_mode": {
    "name": "ipython",
    "version": 3
   },
   "file_extension": ".py",
   "mimetype": "text/x-python",
   "name": "python",
   "nbconvert_exporter": "python",
   "pygments_lexer": "ipython3",
   "version": "3.11.5"
  }
 },
 "nbformat": 4,
 "nbformat_minor": 5
}
