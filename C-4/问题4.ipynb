{
 "cells": [
  {
   "cell_type": "markdown",
   "id": "d0c9a18b",
   "metadata": {
    "pycharm": {
     "name": "#%% md\n"
    }
   },
   "source": [
    "### 问题四 基于数据驱动的磁芯损耗预测模型\n",
    "#### 在磁芯损耗的研究领域中，尽管存在着众多传统模型（如文首“背景”所述），这些模型各自在不同的条件下展现了一定的应用价值，但普遍面临精度不足或适用范围受限的挑战。当前，业界缺乏一个既广泛适用又能提供高精度预测结果的磁芯损耗模型，这直接制约了磁性元件设计中对损耗的精确评估，进而影响了整体功率变换器效率的有效预估。鉴于这一现状，业界对构建更为便捷、精准的数据驱动模型寄予了厚望，旨在开发出一个能够跨越不同材料类型与工况条件的磁芯损耗预测模型。这样的模型将极大提升磁性元件设计的精确性与效率，为电力电子技术的进一步发展奠定坚实基础。\n",
    "#### 请利用附件一中的实验数据，通过数据分析与建模技术，构建磁芯损耗预测模型，分析模型的预测精度、泛化能力，以及对业界的各种指导意义；同时对附件三中样本的磁芯损耗进行预测，把预测结果填入附件四（Excel表格）中第3列，要求：（1）按样本序号填入相应的磁芯损耗预测结果，只保留小数点后1位；（2）结果填入附件四后，保留原文件名，（与问题一的结果一起）以附件材料上传；（3）特别把附件三中样本序号为：16、76、98、126、168、230、271、338、348、379的磁芯损耗预测结果，以表格形式呈现在论文正文中。"
   ]
  },
  {
   "cell_type": "markdown",
   "id": "e968a254",
   "metadata": {
    "pycharm": {
     "name": "#%% md\n"
    }
   },
   "source": [
    "#### 对于这一问题，我们可以建立一个集成模型，基于修正的斯坦麦茨方程和磁芯损耗分离模型集成输出磁芯损耗"
   ]
  },
  {
   "cell_type": "code",
   "execution_count": 1,
   "id": "60d3234e",
   "metadata": {
    "pycharm": {
     "name": "#%%\n"
    }
   },
   "outputs": [],
   "source": [
    "import rasterio\n",
    "import matplotlib.pyplot as plt\n",
    "from rasterio.plot import show\n",
    "import numpy as np\n",
    "import matplotlib.colors as mcolors\n",
    "from mpl_toolkits.axes_grid1 import make_axes_locatable\n",
    "import matplotlib.pyplot as plt\n",
    "from datetime import datetime, timedelta\n",
    "import pandas as pd\n",
    "import warnings\n",
    "import seaborn as sns\n",
    "from scipy.stats import pearsonr\n",
    "# 忽略所有的警告\n",
    "warnings.filterwarnings(\"ignore\")\n",
    "\n",
    "# 设置字体为 SimHei（黑体）以支持中文\n",
    "plt.rcParams['font.sans-serif'] = ['SimHei']  # 用黑体显示中文\n",
    "plt.rcParams['axes.unicode_minus'] = False    # 解决负号\n"
   ]
  },
  {
   "cell_type": "code",
   "execution_count": null,
   "outputs": [],
   "source": [
    "import pandas as pd\n",
    "\n",
    "file_path = '../附件一（训练集）.xlsx'  \n",
    "\n",
    "# 定义 sheet 名字列表，分别为 材料1, 材料2, 材料3, 材料4\n",
    "sheets = ['材料1', '材料2', '材料3', '材料4']\n",
    "\n",
    "# 初始化一个空的 DataFrame 来存储所有材料的数据\n",
    "all_data = pd.DataFrame()\n",
    "\n",
    "# 读取每个 sheet 的前四列，并添加材料列\n",
    "for sheet in sheets:\n",
    "    # 读取 sheet 前四列\n",
    "    data = pd.read_excel(file_path, sheet_name=sheet)\n",
    "    \n",
    "    # 添加一列材料信息\n",
    "    data['磁芯材料'] = sheet\n",
    "    \n",
    "    # 将当前 sheet 的数据添加到总的 DataFrame 中\n",
    "    all_data = pd.concat([all_data, data], ignore_index=True)\n",
    "all_data\n"
   ],
   "metadata": {
    "collapsed": false,
    "pycharm": {
     "name": "#%%\n"
    }
   }
  },
  {
   "cell_type": "markdown",
   "source": [
    "#### 修正的斯坦麦茨方程$P=a1•f^{a2}•B_m^{a3}•log(T)^{a4}$\n",
    "\n",
    "#### 损耗分离模型$P_{core}=P_{h}+P_{cl}+P_{e} .$\n",
    "* $P_h=b1•f•B_m^{b2} $\n",
    "* $P_{cl}=b3•f^2•B_m^2$\n",
    "* $P_e=8•\\sqrt{\\sigma\\cdot S\\cdot G\\cdot V_0}•f^{1.5}•B_m^{1.5}$\n",
    "#### 其中除了$\\sigma$和$S$分别表示电导率和磁性元件的有效截面积之外，其他参数都是待优化的参数\n",
    "\n",
    "#### 我们在问题2中，已经获得了修正的斯坦麦茨方程的相关参数值，现在，我们对磁芯损耗分离模型的参数进行拟合，而由于数据中不存在电导率和有效截面积，我们将其同样作为参数进行优化$b4 = \\sigma\\cdot S\\cdot V_0$，在优化时，我们需要考虑不同材料和不同励磁波形，分别做参数进行拟合"
   ],
   "metadata": {
    "collapsed": false,
    "pycharm": {
     "name": "#%% md\n"
    }
   }
  },
  {
   "cell_type": "markdown",
   "source": [
    "#### 同样的，我们为损耗分离模型加上温度项"
   ],
   "metadata": {
    "collapsed": false,
    "pycharm": {
     "name": "#%% md\n"
    }
   }
  },
  {
   "cell_type": "markdown",
   "source": [
    "#### 首先，我们利用L-BFGS-B优化算法来基于不同的数据确定合适的k、α，β，得到斯坦麦茨方程的拟合情况以及目标函数值"
   ],
   "metadata": {
    "collapsed": false,
    "pycharm": {
     "name": "#%% md\n"
    }
   }
  },
  {
   "cell_type": "code",
   "execution_count": null,
   "outputs": [],
   "source": [
    "col = data.columns[4:]\n",
    "\n",
    "# 假设我们有一些已测量的数据\n",
    "f_data = data['频率，Hz'].values\n",
    "Bm_data = data[col].max(axis=1).values\n",
    "P_data = data['磁芯损耗，w/m3'].values\n",
    "T_data = data['温度，oC'].values"
   ],
   "metadata": {
    "collapsed": false,
    "pycharm": {
     "name": "#%%\n"
    }
   }
  },
  {
   "cell_type": "code",
   "execution_count": null,
   "outputs": [],
   "source": [
    "import numpy as np\n",
    "from scipy.optimize import minimize\n",
    " \n",
    "\n",
    "# 改进的方程\n",
    "def separate(params, f, Bm):\n",
    "    a1,a2,a3,a4 = params\n",
    "    return a1*f*Bm**a2+a3*f**2*Bm**2+(a4*0.1356)**0.5*f**1.5*Bm**1.5\n",
    "\n",
    "# 定义目标函数：平方误差\n",
    "def objective_sep(params, f, Bm, P):\n",
    "    P_pred = separate(params, f, Bm)\n",
    "    return np.sum((P_pred - P)**2)\n",
    "\n",
    "\n",
    "def steinmetz_eq_adjust(params, f, Bm, T):\n",
    "    k1, alpha1, beta1, gamma1 = params\n",
    "    return k1 * f**alpha1 * Bm**beta1 * np.log(T)**gamma1\n",
    "\n",
    "# 定义目标函数：平方误差\n",
    "def objective_adjust(params, f, Bm, P, T):\n",
    "    P_pred = steinmetz_eq_adjust(params, f, Bm, T)\n",
    "    return np.sum((P_pred - P)**2)\n",
    "\n",
    "ls = []\n",
    "bo = []\n",
    "mat = []\n",
    "af = []\n",
    "bf = []\n",
    "for i in all_data['磁芯材料'].unique():\n",
    "    for o in all_data['励磁波形'].unique():\n",
    "        tem = all_data[(all_data.磁芯材料==i)&(all_data.励磁波形==o)]\n",
    "        \n",
    "        f_data = tem['频率，Hz'].values\n",
    "        Bm_data = tem[col].max(axis=1).values\n",
    "        P_data = tem['磁芯损耗，w/m3'].values\n",
    "        T_data = tem['温度，oC'].values\n",
    "\n",
    "        #损耗分离模型\n",
    "        initial_guess = [-2,0,0,0]\n",
    "        bounds = [(None, None), (None, None), (None, None),(None,None)]  # k1 > 0, 1 < alpha1 < 3, 2 < beta1 < 3\n",
    "        result = minimize(objective_sep, initial_guess, args=(f_data, Bm_data, P_data), bounds=bounds, method='L-BFGS-B')\n",
    "        b1, b2, b3, b4 = result.x\n",
    "        a_func = result.fun\n",
    "        #改进的斯坦麦茨方程 \n",
    "        initial_guess = [0,0,0,0]\n",
    "        bounds = [(0, None), (1, 3), (2, 3),(None,None)]  # k1 > 0, 1 < alpha1 < 3, 2 < beta1 < 3\n",
    "        result = minimize(objective_adjust, initial_guess, args=(f_data, Bm_data, P_data,T_data), bounds=bounds, method='L-BFGS-B')\n",
    "        a1,a2,a3,a4 = result.x\n",
    "        b_func = result.fun\n",
    "        \n",
    "        ls.append([a1,a2,a3,a4,b1,b2,b3,b4])\n",
    "        bo.append(o)\n",
    "        mat.append(i)\n",
    "        af.append(a_func)\n",
    "        bf.append(b_func)\n",
    "result = pd.DataFrame(ls,columns=['a1','a2','a3','a4','b1','b2','b3','b4'])\n",
    "result['励磁波形'] = bo\n",
    "result['材料'] = mat\n",
    "result['损耗分离模型'] = af\n",
    "result['修正斯坦麦茨方程损失'] = bf\n"
   ],
   "metadata": {
    "collapsed": false,
    "pycharm": {
     "name": "#%%\n"
    }
   }
  },
  {
   "cell_type": "markdown",
   "source": [
    "### 总损耗=$\\alpha  修正斯坦麦茨方程+\\beta 损耗分离模型$"
   ],
   "metadata": {
    "collapsed": false,
    "pycharm": {
     "name": "#%% md\n"
    }
   }
  },
  {
   "cell_type": "code",
   "execution_count": null,
   "outputs": [],
   "source": [
    "def ensemble(params, a1,a2,a3,a4,b1,b2,b3,b4,f, Bm, T):\n",
    "    a,b = params\n",
    "    return a*steinmetz_eq_adjust([a1,a2,a3,a4], f, Bm, T) + b*separate([b1,b2,b3,b4], f, Bm)\n",
    "\n",
    "# 定义目标函数：平方误差\n",
    "def objectivet(params, a1,a2,a3,a4,b1,b2,b3,b4,f, Bm, P, T):\n",
    "    P_pred = ensemble(params, a1,a2,a3,a4,b1,b2,b3,b4,f, Bm, T)\n",
    "    return np.sum((P_pred - P)**2)\n",
    "\n",
    "als = []\n",
    "bls = []\n",
    "total_cost = []\n",
    "for i in all_data['磁芯材料'].unique():\n",
    "    for o in all_data['励磁波形'].unique():\n",
    "        tem = all_data[(all_data.磁芯材料==i)&(all_data.励磁波形==o)]\n",
    "        a1,a2,a3,a4,b1,b2,b3,b4 = result[(result.材料==i)&(result.励磁波形==o)][['a1', 'a2', 'a3', 'a4', 'b1', 'b2', 'b3', 'b4']].values[0]\n",
    "        \n",
    "        f_data = tem['频率，Hz'].values\n",
    "        Bm_data = tem[col].max(axis=1).values\n",
    "        P_data = tem['磁芯损耗，w/m3'].values\n",
    "        T_data = tem['温度，oC'].values\n",
    "        \n",
    "        \n",
    "        #损耗分离模型\n",
    "        initial_guess = [0.5,0.5]\n",
    "        bounds = [(0, 1), (0, 1)]  # k1 > 0, 1 < alpha1 < 3, 2 < beta1 < 3\n",
    "        total_result = minimize(objectivet, initial_guess, args=(a1,a2,a3,a4,b1,b2,b3,b4,f_data, Bm_data, P_data,T_data), bounds=bounds, method='L-BFGS-B')\n",
    "        a,b = total_result.x\n",
    "        func = total_result.fun\n",
    "            \n",
    "        als.append(a)\n",
    "        bls.append(b)\n",
    "        total_cost.append(func)\n",
    "        \n",
    "result['a'] = als\n",
    "result['b'] = als\n",
    "#result.to_excel('问题4\\\\不同材料不同波形的损耗分离模型和修正方程模型拟合结果.xlsx',index=False)\n",
    "result"
   ],
   "metadata": {
    "collapsed": false,
    "pycharm": {
     "name": "#%%\n"
    }
   }
  },
  {
   "cell_type": "markdown",
   "source": [
    "#### 预测结果"
   ],
   "metadata": {
    "collapsed": false,
    "pycharm": {
     "name": "#%% md\n"
    }
   }
  },
  {
   "cell_type": "code",
   "execution_count": null,
   "outputs": [],
   "source": [
    "df.columns"
   ],
   "metadata": {
    "collapsed": false,
    "pycharm": {
     "name": "#%%\n"
    }
   }
  },
  {
   "cell_type": "code",
   "execution_count": null,
   "outputs": [],
   "source": [
    "col"
   ],
   "metadata": {
    "collapsed": false,
    "pycharm": {
     "name": "#%%\n"
    }
   }
  },
  {
   "cell_type": "code",
   "execution_count": null,
   "outputs": [],
   "source": [
    "df = pd.read_excel('附件三（测试集）.xlsx')\n",
    "\n",
    "f_data = df['频率，Hz'].values\n",
    "Bm_data = df[col].max(axis=1).values\n",
    "T_data = df['温度，oC'].values\n",
    "\n",
    "bo = df['励磁波形'].values\n",
    "mat = df['磁芯材料'].values\n",
    "\n",
    "pred_ls = []\n",
    "for b,m,f,bm,t in zip(bo,mat,f_data,Bm_data,T_data):\n",
    "    a1,a2,a3,a4,b1,b2,b3,b4,a,b = result[(result.材料==m)&(result.励磁波形==b)][['a1', 'a2', 'a3', 'a4', 'b1', 'b2', 'b3', 'b4','a1','a2']].values[0]\n",
    "    pred = ensemble([a,b], a1,a2,a3,a4,b1,b2,b3,b4,f, bm, t)\n",
    "    pred_ls.append(pred)\n",
    "pred_ls"
   ],
   "metadata": {
    "collapsed": false,
    "pycharm": {
     "name": "#%%\n"
    }
   }
  },
  {
   "cell_type": "markdown",
   "source": [
    "#### 填写结果"
   ],
   "metadata": {
    "collapsed": false,
    "pycharm": {
     "name": "#%% md\n"
    }
   }
  },
  {
   "cell_type": "code",
   "execution_count": null,
   "outputs": [],
   "source": [
    "len(pred_ls)"
   ],
   "metadata": {
    "collapsed": false,
    "pycharm": {
     "name": "#%%\n"
    }
   }
  },
  {
   "cell_type": "code",
   "execution_count": null,
   "outputs": [],
   "source": [],
   "metadata": {
    "collapsed": false,
    "pycharm": {
     "name": "#%%\n"
    }
   }
  },
  {
   "cell_type": "code",
   "execution_count": null,
   "id": "2bbece51",
   "metadata": {},
   "outputs": [],
   "source": []
  }
 ],
 "metadata": {
  "kernelspec": {
   "display_name": "Python 3 (ipykernel)",
   "language": "python",
   "name": "python3"
  },
  "language_info": {
   "codemirror_mode": {
    "name": "ipython",
    "version": 3
   },
   "file_extension": ".py",
   "mimetype": "text/x-python",
   "name": "python",
   "nbconvert_exporter": "python",
   "pygments_lexer": "ipython3",
   "version": "3.11.4"
  }
 },
 "nbformat": 4,
 "nbformat_minor": 5
}