{
 "cells": [
  {
   "cell_type": "markdown",
   "id": "d0c9a18b",
   "metadata": {
    "pycharm": {
     "name": "#%% md\n"
    }
   },
   "source": [
    "### 问题四 基于数据驱动的磁芯损耗预测模型\n",
    "#### 在磁芯损耗的研究领域中，尽管存在着众多传统模型（如文首“背景”所述），这些模型各自在不同的条件下展现了一定的应用价值，但普遍面临精度不足或适用范围受限的挑战。当前，业界缺乏一个既广泛适用又能提供高精度预测结果的磁芯损耗模型，这直接制约了磁性元件设计中对损耗的精确评估，进而影响了整体功率变换器效率的有效预估。鉴于这一现状，业界对构建更为便捷、精准的数据驱动模型寄予了厚望，旨在开发出一个能够跨越不同材料类型与工况条件的磁芯损耗预测模型。这样的模型将极大提升磁性元件设计的精确性与效率，为电力电子技术的进一步发展奠定坚实基础。\n",
    "#### 请利用附件一中的实验数据，通过数据分析与建模技术，构建磁芯损耗预测模型，分析模型的预测精度、泛化能力，以及对业界的各种指导意义；同时对附件三中样本的磁芯损耗进行预测，把预测结果填入附件四（Excel表格）中第3列，要求：（1）按样本序号填入相应的磁芯损耗预测结果，只保留小数点后1位；（2）结果填入附件四后，保留原文件名，（与问题一的结果一起）以附件材料上传；（3）特别把附件三中样本序号为：16、76、98、126、168、230、271、338、348、379的磁芯损耗预测结果，以表格形式呈现在论文正文中。"
   ]
  },
  {
   "cell_type": "markdown",
   "id": "e968a254",
   "metadata": {
    "pycharm": {
     "name": "#%% md\n"
    }
   },
   "source": [
    "#### 对于这一问题，我们可以建立一个集成模型，基于修正的斯坦麦茨方程和磁芯损耗分离模型集成输出磁芯损耗"
   ]
  },
  {
   "cell_type": "code",
   "execution_count": 1,
   "id": "60d3234e",
   "metadata": {
    "pycharm": {
     "name": "#%%\n"
    }
   },
   "outputs": [],
   "source": [
    "import rasterio\n",
    "import matplotlib.pyplot as plt\n",
    "from rasterio.plot import show\n",
    "import numpy as np\n",
    "import matplotlib.colors as mcolors\n",
    "from mpl_toolkits.axes_grid1 import make_axes_locatable\n",
    "import matplotlib.pyplot as plt\n",
    "from datetime import datetime, timedelta\n",
    "import pandas as pd\n",
    "import warnings\n",
    "import seaborn as sns\n",
    "from scipy.stats import pearsonr\n",
    "# 忽略所有的警告\n",
    "warnings.filterwarnings(\"ignore\")\n",
    "\n",
    "# 设置字体为 SimHei（黑体）以支持中文\n",
    "plt.rcParams['font.sans-serif'] = ['SimHei']  # 用黑体显示中文\n",
    "plt.rcParams['axes.unicode_minus'] = False    # 解决负号\n"
   ]
  },
  {
   "cell_type": "code",
   "execution_count": null,
   "id": "63eca1fd",
   "metadata": {
    "pycharm": {
     "name": "#%%\n"
    },
    "scrolled": true
   },
   "outputs": [],
   "source": [
    "import pandas as pd\n",
    "\n",
    "file_path = '../附件一（训练集）.xlsx'  \n",
    "\n",
    "# 定义 sheet 名字列表，分别为 材料1, 材料2, 材料3, 材料4\n",
    "sheets = ['材料1', '材料2', '材料3', '材料4']\n",
    "\n",
    "# 初始化一个空的 DataFrame 来存储所有材料的数据\n",
    "all_data = pd.DataFrame()\n",
    "\n",
    "# 读取每个 sheet 的前四列，并添加材料列\n",
    "for sheet in sheets:\n",
    "    # 读取 sheet 前四列\n",
    "    data = pd.read_excel(file_path, sheet_name=sheet)\n",
    "    \n",
    "    # 添加一列材料信息\n",
    "    data['磁芯材料'] = sheet\n",
    "    \n",
    "    # 将当前 sheet 的数据添加到总的 DataFrame 中\n",
    "    all_data = pd.concat([all_data, data], ignore_index=True)\n",
    "all_data\n"
   ]
  },
  {
   "cell_type": "markdown",
   "id": "483d9523",
   "metadata": {
    "pycharm": {
     "name": "#%% md\n"
    }
   },
   "source": [
    "#### 修正的斯坦麦茨方程$P=a1•f^{a2}•B_m^{a3}•log(T)^{a4}$\n",
    "\n",
    "#### 损耗分离模型$P_{core}=P_{h}+P_{cl}+P_{e} .$\n",
    "* $P_h=b1•f•B_m^{b2} $\n",
    "* $P_{cl}=b3•f^2•B_m^2$\n",
    "* $P_e=8•\\sqrt{\\sigma\\cdot S\\cdot G\\cdot V_0}•f^{1.5}•B_m^{1.5}$\n",
    "#### 其中除了$\\sigma$和$S$分别表示电导率和磁性元件的有效截面积之外，其他参数都是待优化的参数\n",
    "\n",
    "#### 我们在问题2中，已经获得了修正的斯坦麦茨方程的相关参数值，现在，我们对磁芯损耗分离模型的参数进行拟合，而由于数据中不存在电导率和有效截面积，我们将其同样作为参数进行优化$b4 = \\sigma\\cdot S\\cdot V_0$，在优化时，我们需要考虑不同材料和不同励磁波形，分别做参数进行拟合"
   ]
  },
  {
   "cell_type": "markdown",
   "id": "58eee58a",
   "metadata": {
    "pycharm": {
     "name": "#%% md\n"
    }
   },
   "source": [
    "#### 同样的，我们为损耗分离模型加上温度项"
   ]
  },
  {
   "cell_type": "markdown",
   "id": "6edf2d69",
   "metadata": {
    "pycharm": {
     "name": "#%% md\n"
    }
   },
   "source": [
    "#### 首先，我们利用L-BFGS-B优化算法来基于不同的数据确定合适的k、α，β，得到斯坦麦茨方程的拟合情况以及目标函数值"
   ]
  },
  {
   "cell_type": "code",
   "execution_count": 4,
   "id": "57f47e2d",
   "metadata": {
    "pycharm": {
     "name": "#%%\n"
    }
   },
   "outputs": [],
   "source": [
    "col = data.columns[4:]\n",
    "\n",
    "# 假设我们有一些已测量的数据\n",
    "f_data = data['频率，Hz'].values\n",
    "Bm_data = data[col].max(axis=1).values\n",
    "P_data = data['磁芯损耗，w/m3'].values\n",
    "T_data = data['温度，oC'].values"
   ]
  },
  {
   "cell_type": "code",
   "execution_count": 47,
   "id": "c740cf85",
   "metadata": {
    "pycharm": {
     "name": "#%%\n"
    }
   },
   "outputs": [],
   "source": [
    "import numpy as np\n",
    "from scipy.optimize import minimize\n",
    " \n",
    "\n",
    "# 改进的方程\n",
    "def separate(params, f, Bm):\n",
    "    a1,a2,a3,a4 = params\n",
    "    return a1*f*Bm**a2+a3*f**2*Bm**2+(a4*0.1356)**0.5*f**1.5*Bm**1.5\n",
    "\n",
    "# 定义目标函数：平方误差\n",
    "def objective_sep(params, f, Bm, P):\n",
    "    P_pred = separate(params, f, Bm)\n",
    "    return np.sum((P_pred - P)**2)\n",
    "\n",
    "\n",
    "def steinmetz_eq_adjust(params, f, Bm, T):\n",
    "    k1, alpha1, beta1, gamma1 = params\n",
    "    return k1 * f**alpha1 * Bm**beta1 * np.log(T)**gamma1\n",
    "\n",
    "# 定义目标函数：平方误差\n",
    "def objective_adjust(params, f, Bm, P, T):\n",
    "    P_pred = steinmetz_eq_adjust(params, f, Bm, T)\n",
    "    return np.sum((P_pred - P)**2)\n",
    "\n",
    "ls = []\n",
    "bo = []\n",
    "mat = []\n",
    "af = []\n",
    "bf = []\n",
    "for i in all_data['磁芯材料'].unique():\n",
    "    for o in all_data['励磁波形'].unique():\n",
    "        tem = all_data[(all_data.磁芯材料==i)&(all_data.励磁波形==o)]\n",
    "        \n",
    "        f_data = tem['频率，Hz'].values\n",
    "        Bm_data = tem[col].max(axis=1).values\n",
    "        P_data = tem['磁芯损耗，w/m3'].values\n",
    "        T_data = tem['温度，oC'].values\n",
    "\n",
    "        #损耗分离模型\n",
    "        initial_guess = [-2,0,0,0]\n",
    "        bounds = [(None, None), (None, None), (None, None),(None,None)]  # k1 > 0, 1 < alpha1 < 3, 2 < beta1 < 3\n",
    "        result = minimize(objective_sep, initial_guess, args=(f_data, Bm_data, P_data), bounds=bounds, method='L-BFGS-B')\n",
    "        b1, b2, b3, b4 = result.x\n",
    "        a_func = result.fun\n",
    "        #改进的斯坦麦茨方程 \n",
    "        initial_guess = [0,0,0,0]\n",
    "        bounds = [(0, None), (1, 3), (2, 3),(None,None)]  # k1 > 0, 1 < alpha1 < 3, 2 < beta1 < 3\n",
    "        result = minimize(objective_adjust, initial_guess, args=(f_data, Bm_data, P_data,T_data), bounds=bounds, method='L-BFGS-B')\n",
    "        a1,a2,a3,a4 = result.x\n",
    "        b_func = result.fun\n",
    "        \n",
    "        ls.append([a1,a2,a3,a4,b1,b2,b3,b4])\n",
    "        bo.append(o)\n",
    "        mat.append(i)\n",
    "        af.append(a_func)\n",
    "        bf.append(b_func)\n",
    "result = pd.DataFrame(ls,columns=['a1','a2','a3','a4','b1','b2','b3','b4'])\n",
    "result['励磁波形'] = bo\n",
    "result['材料'] = mat\n",
    "result['损耗分离模型'] = af\n",
    "result['修正斯坦麦茨方程损失'] = bf\n"
   ]
  },
  {
   "cell_type": "markdown",
   "id": "7df5c414",
   "metadata": {
    "pycharm": {
     "name": "#%% md\n"
    }
   },
   "source": [
    "### 总损耗=$\\alpha  修正斯坦麦茨方程+\\beta 损耗分离模型$"
   ]
  },
  {
   "cell_type": "code",
   "execution_count": 54,
   "id": "b46a6bf8",
   "metadata": {
    "pycharm": {
     "name": "#%%\n"
    },
    "scrolled": true
   },
   "outputs": [
    {
     "data": {
      "text/html": [
       "<div>\n",
       "<style scoped>\n",
       "    .dataframe tbody tr th:only-of-type {\n",
       "        vertical-align: middle;\n",
       "    }\n",
       "\n",
       "    .dataframe tbody tr th {\n",
       "        vertical-align: top;\n",
       "    }\n",
       "\n",
       "    .dataframe thead th {\n",
       "        text-align: right;\n",
       "    }\n",
       "</style>\n",
       "<table border=\"1\" class=\"dataframe\">\n",
       "  <thead>\n",
       "    <tr style=\"text-align: right;\">\n",
       "      <th></th>\n",
       "      <th>a1</th>\n",
       "      <th>a2</th>\n",
       "      <th>a3</th>\n",
       "      <th>a4</th>\n",
       "      <th>b1</th>\n",
       "      <th>b2</th>\n",
       "      <th>b3</th>\n",
       "      <th>b4</th>\n",
       "      <th>励磁波形</th>\n",
       "      <th>材料</th>\n",
       "      <th>损耗分离模型</th>\n",
       "      <th>修正斯坦麦茨方程损失</th>\n",
       "      <th>a</th>\n",
       "      <th>b</th>\n",
       "    </tr>\n",
       "  </thead>\n",
       "  <tbody>\n",
       "    <tr>\n",
       "      <th>0</th>\n",
       "      <td>7.368229</td>\n",
       "      <td>1.466916</td>\n",
       "      <td>2.451520</td>\n",
       "      <td>-1.510666</td>\n",
       "      <td>-1.942393</td>\n",
       "      <td>0.403880</td>\n",
       "      <td>-0.000167</td>\n",
       "      <td>0.236558</td>\n",
       "      <td>正弦波</td>\n",
       "      <td>材料1</td>\n",
       "      <td>5.204378e+12</td>\n",
       "      <td>1.447990e+11</td>\n",
       "      <td>0.997267</td>\n",
       "      <td>0.997267</td>\n",
       "    </tr>\n",
       "    <tr>\n",
       "      <th>1</th>\n",
       "      <td>21.558512</td>\n",
       "      <td>1.268469</td>\n",
       "      <td>2.000000</td>\n",
       "      <td>-0.956533</td>\n",
       "      <td>-1.930695</td>\n",
       "      <td>0.483383</td>\n",
       "      <td>-0.000224</td>\n",
       "      <td>0.302264</td>\n",
       "      <td>三角波</td>\n",
       "      <td>材料1</td>\n",
       "      <td>2.124422e+13</td>\n",
       "      <td>9.638618e+12</td>\n",
       "      <td>0.890173</td>\n",
       "      <td>0.890173</td>\n",
       "    </tr>\n",
       "    <tr>\n",
       "      <th>2</th>\n",
       "      <td>76.009672</td>\n",
       "      <td>1.024308</td>\n",
       "      <td>2.000000</td>\n",
       "      <td>0.002735</td>\n",
       "      <td>-1.944298</td>\n",
       "      <td>0.423720</td>\n",
       "      <td>0.000231</td>\n",
       "      <td>0.108911</td>\n",
       "      <td>梯形波</td>\n",
       "      <td>材料1</td>\n",
       "      <td>7.940084e+12</td>\n",
       "      <td>1.073719e+13</td>\n",
       "      <td>0.651480</td>\n",
       "      <td>0.651480</td>\n",
       "    </tr>\n",
       "    <tr>\n",
       "      <th>3</th>\n",
       "      <td>5.992798</td>\n",
       "      <td>1.489006</td>\n",
       "      <td>2.347762</td>\n",
       "      <td>-1.504197</td>\n",
       "      <td>-1.940548</td>\n",
       "      <td>0.414445</td>\n",
       "      <td>-0.000536</td>\n",
       "      <td>0.445768</td>\n",
       "      <td>正弦波</td>\n",
       "      <td>材料2</td>\n",
       "      <td>4.189431e+12</td>\n",
       "      <td>2.336712e+11</td>\n",
       "      <td>0.999494</td>\n",
       "      <td>0.999494</td>\n",
       "    </tr>\n",
       "    <tr>\n",
       "      <th>4</th>\n",
       "      <td>3.729918</td>\n",
       "      <td>1.427763</td>\n",
       "      <td>2.045042</td>\n",
       "      <td>-0.986514</td>\n",
       "      <td>-12.182645</td>\n",
       "      <td>0.694777</td>\n",
       "      <td>-0.000803</td>\n",
       "      <td>1.315217</td>\n",
       "      <td>三角波</td>\n",
       "      <td>材料2</td>\n",
       "      <td>2.599980e+13</td>\n",
       "      <td>8.879885e+12</td>\n",
       "      <td>0.977068</td>\n",
       "      <td>0.977068</td>\n",
       "    </tr>\n",
       "    <tr>\n",
       "      <th>5</th>\n",
       "      <td>1.061335</td>\n",
       "      <td>1.560110</td>\n",
       "      <td>2.258314</td>\n",
       "      <td>-0.960735</td>\n",
       "      <td>-1.959521</td>\n",
       "      <td>0.305084</td>\n",
       "      <td>-0.000050</td>\n",
       "      <td>0.308080</td>\n",
       "      <td>梯形波</td>\n",
       "      <td>材料2</td>\n",
       "      <td>1.928162e+13</td>\n",
       "      <td>1.460342e+12</td>\n",
       "      <td>0.977496</td>\n",
       "      <td>0.977496</td>\n",
       "    </tr>\n",
       "    <tr>\n",
       "      <th>6</th>\n",
       "      <td>8.169559</td>\n",
       "      <td>1.450615</td>\n",
       "      <td>2.363485</td>\n",
       "      <td>-1.257346</td>\n",
       "      <td>-10.590353</td>\n",
       "      <td>0.674632</td>\n",
       "      <td>-0.001735</td>\n",
       "      <td>2.146564</td>\n",
       "      <td>正弦波</td>\n",
       "      <td>材料3</td>\n",
       "      <td>4.737865e+12</td>\n",
       "      <td>2.825606e+11</td>\n",
       "      <td>1.000000</td>\n",
       "      <td>1.000000</td>\n",
       "    </tr>\n",
       "    <tr>\n",
       "      <th>7</th>\n",
       "      <td>7.370449</td>\n",
       "      <td>1.379880</td>\n",
       "      <td>2.128091</td>\n",
       "      <td>-0.866000</td>\n",
       "      <td>-1.949193</td>\n",
       "      <td>0.307834</td>\n",
       "      <td>-0.000391</td>\n",
       "      <td>0.576555</td>\n",
       "      <td>三角波</td>\n",
       "      <td>材料3</td>\n",
       "      <td>3.800302e+13</td>\n",
       "      <td>9.251302e+12</td>\n",
       "      <td>0.990228</td>\n",
       "      <td>0.990228</td>\n",
       "    </tr>\n",
       "    <tr>\n",
       "      <th>8</th>\n",
       "      <td>3.702568</td>\n",
       "      <td>1.462163</td>\n",
       "      <td>2.279015</td>\n",
       "      <td>-0.884175</td>\n",
       "      <td>-1.966771</td>\n",
       "      <td>0.242819</td>\n",
       "      <td>-0.000179</td>\n",
       "      <td>0.497220</td>\n",
       "      <td>梯形波</td>\n",
       "      <td>材料3</td>\n",
       "      <td>4.303256e+13</td>\n",
       "      <td>1.943241e+12</td>\n",
       "      <td>0.984187</td>\n",
       "      <td>0.984187</td>\n",
       "    </tr>\n",
       "    <tr>\n",
       "      <th>9</th>\n",
       "      <td>12.744116</td>\n",
       "      <td>1.488247</td>\n",
       "      <td>2.486573</td>\n",
       "      <td>-1.674659</td>\n",
       "      <td>-1.942312</td>\n",
       "      <td>0.494314</td>\n",
       "      <td>-0.000757</td>\n",
       "      <td>0.444788</td>\n",
       "      <td>正弦波</td>\n",
       "      <td>材料4</td>\n",
       "      <td>5.761675e+11</td>\n",
       "      <td>4.424592e+10</td>\n",
       "      <td>0.991573</td>\n",
       "      <td>0.991573</td>\n",
       "    </tr>\n",
       "    <tr>\n",
       "      <th>10</th>\n",
       "      <td>71.431934</td>\n",
       "      <td>1.180963</td>\n",
       "      <td>2.000000</td>\n",
       "      <td>-0.899324</td>\n",
       "      <td>-9.006406</td>\n",
       "      <td>0.641941</td>\n",
       "      <td>-0.001580</td>\n",
       "      <td>2.193009</td>\n",
       "      <td>三角波</td>\n",
       "      <td>材料4</td>\n",
       "      <td>1.332972e+13</td>\n",
       "      <td>2.568792e+12</td>\n",
       "      <td>0.970088</td>\n",
       "      <td>0.970088</td>\n",
       "    </tr>\n",
       "    <tr>\n",
       "      <th>11</th>\n",
       "      <td>30.324816</td>\n",
       "      <td>1.343432</td>\n",
       "      <td>2.427420</td>\n",
       "      <td>-1.197560</td>\n",
       "      <td>-8.730526</td>\n",
       "      <td>0.638066</td>\n",
       "      <td>-0.000493</td>\n",
       "      <td>1.150749</td>\n",
       "      <td>梯形波</td>\n",
       "      <td>材料4</td>\n",
       "      <td>2.853464e+12</td>\n",
       "      <td>4.014728e+10</td>\n",
       "      <td>0.995600</td>\n",
       "      <td>0.995600</td>\n",
       "    </tr>\n",
       "  </tbody>\n",
       "</table>\n",
       "</div>"
      ],
      "text/plain": [
       "           a1        a2        a3        a4         b1        b2        b3  \\\n",
       "0    7.368229  1.466916  2.451520 -1.510666  -1.942393  0.403880 -0.000167   \n",
       "1   21.558512  1.268469  2.000000 -0.956533  -1.930695  0.483383 -0.000224   \n",
       "2   76.009672  1.024308  2.000000  0.002735  -1.944298  0.423720  0.000231   \n",
       "3    5.992798  1.489006  2.347762 -1.504197  -1.940548  0.414445 -0.000536   \n",
       "4    3.729918  1.427763  2.045042 -0.986514 -12.182645  0.694777 -0.000803   \n",
       "5    1.061335  1.560110  2.258314 -0.960735  -1.959521  0.305084 -0.000050   \n",
       "6    8.169559  1.450615  2.363485 -1.257346 -10.590353  0.674632 -0.001735   \n",
       "7    7.370449  1.379880  2.128091 -0.866000  -1.949193  0.307834 -0.000391   \n",
       "8    3.702568  1.462163  2.279015 -0.884175  -1.966771  0.242819 -0.000179   \n",
       "9   12.744116  1.488247  2.486573 -1.674659  -1.942312  0.494314 -0.000757   \n",
       "10  71.431934  1.180963  2.000000 -0.899324  -9.006406  0.641941 -0.001580   \n",
       "11  30.324816  1.343432  2.427420 -1.197560  -8.730526  0.638066 -0.000493   \n",
       "\n",
       "          b4 励磁波形   材料        损耗分离模型    修正斯坦麦茨方程损失         a         b  \n",
       "0   0.236558  正弦波  材料1  5.204378e+12  1.447990e+11  0.997267  0.997267  \n",
       "1   0.302264  三角波  材料1  2.124422e+13  9.638618e+12  0.890173  0.890173  \n",
       "2   0.108911  梯形波  材料1  7.940084e+12  1.073719e+13  0.651480  0.651480  \n",
       "3   0.445768  正弦波  材料2  4.189431e+12  2.336712e+11  0.999494  0.999494  \n",
       "4   1.315217  三角波  材料2  2.599980e+13  8.879885e+12  0.977068  0.977068  \n",
       "5   0.308080  梯形波  材料2  1.928162e+13  1.460342e+12  0.977496  0.977496  \n",
       "6   2.146564  正弦波  材料3  4.737865e+12  2.825606e+11  1.000000  1.000000  \n",
       "7   0.576555  三角波  材料3  3.800302e+13  9.251302e+12  0.990228  0.990228  \n",
       "8   0.497220  梯形波  材料3  4.303256e+13  1.943241e+12  0.984187  0.984187  \n",
       "9   0.444788  正弦波  材料4  5.761675e+11  4.424592e+10  0.991573  0.991573  \n",
       "10  2.193009  三角波  材料4  1.332972e+13  2.568792e+12  0.970088  0.970088  \n",
       "11  1.150749  梯形波  材料4  2.853464e+12  4.014728e+10  0.995600  0.995600  "
      ]
     },
     "execution_count": 54,
     "metadata": {},
     "output_type": "execute_result"
    }
   ],
   "source": [
    "def ensemble(params, a1,a2,a3,a4,b1,b2,b3,b4,f, Bm, T):\n",
    "    a,b = params\n",
    "    return a*steinmetz_eq_adjust([a1,a2,a3,a4], f, Bm, T) + b*separate([b1,b2,b3,b4], f, Bm)\n",
    "\n",
    "# 定义目标函数：平方误差\n",
    "def objectivet(params, a1,a2,a3,a4,b1,b2,b3,b4,f, Bm, P, T):\n",
    "    P_pred = ensemble(params, a1,a2,a3,a4,b1,b2,b3,b4,f, Bm, T)\n",
    "    return np.sum((P_pred - P)**2)\n",
    "\n",
    "als = []\n",
    "bls = []\n",
    "total_cost = []\n",
    "for i in all_data['磁芯材料'].unique():\n",
    "    for o in all_data['励磁波形'].unique():\n",
    "        tem = all_data[(all_data.磁芯材料==i)&(all_data.励磁波形==o)]\n",
    "        a1,a2,a3,a4,b1,b2,b3,b4 = result[(result.材料==i)&(result.励磁波形==o)][['a1', 'a2', 'a3', 'a4', 'b1', 'b2', 'b3', 'b4']].values[0]\n",
    "        \n",
    "        f_data = tem['频率，Hz'].values\n",
    "        Bm_data = tem[col].max(axis=1).values\n",
    "        P_data = tem['磁芯损耗，w/m3'].values\n",
    "        T_data = tem['温度，oC'].values\n",
    "        \n",
    "        \n",
    "        #损耗分离模型\n",
    "        initial_guess = [0.5,0.5]\n",
    "        bounds = [(0, 1), (0, 1)]  # k1 > 0, 1 < alpha1 < 3, 2 < beta1 < 3\n",
    "        total_result = minimize(objectivet, initial_guess, args=(a1,a2,a3,a4,b1,b2,b3,b4,f_data, Bm_data, P_data,T_data), bounds=bounds, method='L-BFGS-B')\n",
    "        a,b = total_result.x\n",
    "        func = total_result.fun\n",
    "            \n",
    "        als.append(a)\n",
    "        bls.append(b)\n",
    "        total_cost.append(func)\n",
    "        \n",
    "result['a'] = als\n",
    "result['b'] = als\n",
    "#result.to_excel('问题4\\\\不同材料不同波形的损耗分离模型和修正方程模型拟合结果.xlsx',index=False)\n",
    "result"
   ]
  },
  {
   "cell_type": "markdown",
   "id": "a581516f",
   "metadata": {
    "pycharm": {
     "name": "#%% md\n"
    }
   },
   "source": [
    "#### 预测结果"
   ]
  },
  {
   "cell_type": "code",
   "execution_count": 69,
   "id": "3572939f",
   "metadata": {
    "pycharm": {
     "name": "#%%\n"
    }
   },
   "outputs": [
    {
     "data": {
      "text/plain": [
       "Index([        '序号',      '温度，oC',      '频率，Hz',       '磁芯材料',       '励磁波形',\n",
       "       '0（磁通密度B，T）',            1,            2,            3,            4,\n",
       "       ...\n",
       "               1014,         1015,         1016,         1017,         1018,\n",
       "               1019,         1020,         1021,         1022,         1023],\n",
       "      dtype='object', length=1029)"
      ]
     },
     "execution_count": 69,
     "metadata": {},
     "output_type": "execute_result"
    }
   ],
   "source": [
    "df.columns"
   ]
  },
  {
   "cell_type": "code",
   "execution_count": 70,
   "id": "ba1adb85",
   "metadata": {
    "pycharm": {
     "name": "#%%\n"
    }
   },
   "outputs": [
    {
     "data": {
      "text/plain": [
       "Index(['0（磁通密度B，T）',            1,            2,            3,            4,\n",
       "                  5,            6,            7,            8,            9,\n",
       "       ...\n",
       "               1014,         1015,         1016,         1017,         1018,\n",
       "               1019,         1020,         1021,         1022,         1023],\n",
       "      dtype='object', length=1024)"
      ]
     },
     "execution_count": 70,
     "metadata": {},
     "output_type": "execute_result"
    }
   ],
   "source": [
    "col"
   ]
  },
  {
   "cell_type": "code",
   "execution_count": null,
   "id": "61ddd6f0",
   "metadata": {
    "pycharm": {
     "name": "#%%\n"
    },
    "scrolled": true
   },
   "outputs": [],
   "source": [
    "df = pd.read_excel('附件三（测试集）.xlsx')\n",
    "\n",
    "f_data = df['频率，Hz'].values\n",
    "Bm_data = df[col].max(axis=1).values\n",
    "T_data = df['温度，oC'].values\n",
    "\n",
    "bo = df['励磁波形'].values\n",
    "mat = df['磁芯材料'].values\n",
    "\n",
    "pred_ls = []\n",
    "for b,m,f,bm,t in zip(bo,mat,f_data,Bm_data,T_data):\n",
    "    a1,a2,a3,a4,b1,b2,b3,b4,a,b = result[(result.材料==m)&(result.励磁波形==b)][['a1', 'a2', 'a3', 'a4', 'b1', 'b2', 'b3', 'b4','a1','a2']].values[0]\n",
    "    pred = ensemble([a,b], a1,a2,a3,a4,b1,b2,b3,b4,f, bm, t)\n",
    "    pred_ls.append(pred)\n",
    "pred_ls"
   ]
  },
  {
   "cell_type": "markdown",
   "id": "47f2f0d9",
   "metadata": {
    "pycharm": {
     "name": "#%% md\n"
    }
   },
   "source": [
    "#### 填写结果"
   ]
  },
  {
   "cell_type": "code",
   "execution_count": 66,
   "id": "70b7fa05",
   "metadata": {
    "pycharm": {
     "name": "#%%\n"
    }
   },
   "outputs": [
    {
     "data": {
      "text/plain": [
       "465"
      ]
     },
     "execution_count": 66,
     "metadata": {},
     "output_type": "execute_result"
    }
   ],
   "source": [
    "len(pred_ls)"
   ]
  }
 ],
 "metadata": {
  "kernelspec": {
   "display_name": "Python 3 (ipykernel)",
   "language": "python",
   "name": "python3"
  },
  "language_info": {
   "codemirror_mode": {
    "name": "ipython",
    "version": 3
   },
   "file_extension": ".py",
   "mimetype": "text/x-python",
   "name": "python",
   "nbconvert_exporter": "python",
   "pygments_lexer": "ipython3",
   "version": "3.11.4"
  }
 },
 "nbformat": 4,
 "nbformat_minor": 5
}
